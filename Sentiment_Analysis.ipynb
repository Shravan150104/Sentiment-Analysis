{
  "nbformat": 4,
  "nbformat_minor": 0,
  "metadata": {
    "colab": {
      "provenance": [],
      "authorship_tag": "ABX9TyPHGmWHmhGVa2trq5jAExOV",
      "include_colab_link": true
    },
    "kernelspec": {
      "name": "python3",
      "display_name": "Python 3"
    },
    "language_info": {
      "name": "python"
    }
  },
  "cells": [
    {
      "cell_type": "markdown",
      "metadata": {
        "id": "view-in-github",
        "colab_type": "text"
      },
      "source": [
        "<a href=\"https://colab.research.google.com/github/Shravan150104/Sentiment-Analysis/blob/main/Sentiment_Analysis.ipynb\" target=\"_parent\"><img src=\"https://colab.research.google.com/assets/colab-badge.svg\" alt=\"Open In Colab\"/></a>"
      ]
    },
    {
      "cell_type": "markdown",
      "source": [
        "1.Import the Necessary Dependencies"
      ],
      "metadata": {
        "id": "v3RBcHEtpKTf"
      }
    },
    {
      "cell_type": "code",
      "source": [
        "import re\n",
        "import numpy as np\n",
        "import pandas as pd\n",
        "# plotting\n",
        "import seaborn as sns\n",
        "from wordcloud import WordCloud\n",
        "import matplotlib.pyplot as plt\n",
        "# nltk\n",
        "from nltk.stem import WordNetLemmatizer\n",
        "# sklearn\n",
        "from sklearn.svm import LinearSVC\n",
        "from sklearn.naive_bayes import BernoulliNB\n",
        "from sklearn.linear_model import LogisticRegression\n",
        "from sklearn.model_selection import train_test_split\n",
        "from sklearn.feature_extraction.text import TfidfVectorizer\n",
        "from sklearn.metrics import confusion_matrix, classification_report"
      ],
      "metadata": {
        "id": "hd8HIhespKc2"
      },
      "execution_count": null,
      "outputs": []
    },
    {
      "cell_type": "markdown",
      "source": [
        "2.Importing the dataset"
      ],
      "metadata": {
        "id": "GvuG7MJPpKv2"
      }
    },
    {
      "cell_type": "code",
      "source": [
        "# Importing the dataset\n",
        "DATASET_COLUMNS=['target','ids','date','flag','user','text']\n",
        "DATASET_ENCODING = \"ISO-8859-1\"\n",
        "df = pd.read_csv('Project_Data.csv', encoding=DATASET_ENCODING, names=DATASET_COLUMNS)\n",
        "df.sample(5)"
      ],
      "metadata": {
        "id": "sMWm_zQGpK6Q"
      },
      "execution_count": null,
      "outputs": []
    },
    {
      "cell_type": "code",
      "source": [
        "df.head()"
      ],
      "metadata": {
        "id": "1OinkzzCpLLk"
      },
      "execution_count": null,
      "outputs": []
    },
    {
      "cell_type": "code",
      "source": [
        "df.columns"
      ],
      "metadata": {
        "id": "WOjatxLppLcT"
      },
      "execution_count": null,
      "outputs": []
    },
    {
      "cell_type": "code",
      "source": [
        "print('length of data is', len(df))"
      ],
      "metadata": {
        "id": "sNRZZeVkpLt_"
      },
      "execution_count": null,
      "outputs": []
    },
    {
      "cell_type": "code",
      "source": [
        "df. shape"
      ],
      "metadata": {
        "id": "sDLZ_FgRpL_y"
      },
      "execution_count": null,
      "outputs": []
    },
    {
      "cell_type": "code",
      "source": [
        "df.info()"
      ],
      "metadata": {
        "id": "BuhdAypWpoBo"
      },
      "execution_count": null,
      "outputs": []
    },
    {
      "cell_type": "code",
      "source": [
        "df.dtypes"
      ],
      "metadata": {
        "id": "qsMQUCY3poXA"
      },
      "execution_count": null,
      "outputs": []
    },
    {
      "cell_type": "code",
      "source": [
        "np.sum(df.isnull().any(axis=1))"
      ],
      "metadata": {
        "id": "4MZ8J59lpoos"
      },
      "execution_count": null,
      "outputs": []
    },
    {
      "cell_type": "code",
      "source": [
        "print('Count of columns in the data is:  ', len(df.columns))\n",
        "print('Count of rows in the data is:  ', len(df))"
      ],
      "metadata": {
        "id": "B9qMMLK1po7f"
      },
      "execution_count": null,
      "outputs": []
    },
    {
      "cell_type": "code",
      "source": [
        "df['target'].unique()"
      ],
      "metadata": {
        "id": "aI7cz90VppLT"
      },
      "execution_count": null,
      "outputs": []
    },
    {
      "cell_type": "code",
      "source": [
        "df['target'].nunique()"
      ],
      "metadata": {
        "id": "22fHzOq1qCWA"
      },
      "execution_count": null,
      "outputs": []
    },
    {
      "cell_type": "markdown",
      "source": [
        "3.Data Visualisation of Target Variables"
      ],
      "metadata": {
        "id": "Aj5AijcMqQ1Z"
      }
    },
    {
      "cell_type": "code",
      "source": [
        "# Plotting the distribution for dataset.\n",
        "ax = df.groupby('target').count().plot(kind='bar', title='Distribution of data',legend=False)\n",
        "ax.set_xticklabels(['Negative','Positive'], rotation=0)\n",
        "# Storing data in lists.\n",
        "text, sentiment = list(df['text']), list(df['target'])"
      ],
      "metadata": {
        "id": "dA8XqlVcqCcj"
      },
      "execution_count": null,
      "outputs": []
    },
    {
      "cell_type": "code",
      "source": [
        "import seaborn as sns\n",
        "sns.countplot(x='target', data=df)"
      ],
      "metadata": {
        "id": "JJVZ1j5pqCgZ"
      },
      "execution_count": null,
      "outputs": []
    },
    {
      "cell_type": "markdown",
      "source": [
        "4.Data Preprocessing"
      ],
      "metadata": {
        "id": "sG7cIv8UqYWp"
      }
    },
    {
      "cell_type": "code",
      "source": [
        "data=df[['text','target']]"
      ],
      "metadata": {
        "id": "c8f22ebeqCmt"
      },
      "execution_count": null,
      "outputs": []
    },
    {
      "cell_type": "code",
      "source": [
        "data['target'] = data['target'].replace(4,1)"
      ],
      "metadata": {
        "id": "iy73H20iqCqZ"
      },
      "execution_count": null,
      "outputs": []
    },
    {
      "cell_type": "code",
      "source": [
        "data['target'].unique()"
      ],
      "metadata": {
        "id": "rOvnUUMTqCtW"
      },
      "execution_count": null,
      "outputs": []
    },
    {
      "cell_type": "code",
      "source": [
        "data_pos = data[data['target'] == 1]\n",
        "data_neg = data[data['target'] == 0]"
      ],
      "metadata": {
        "id": "j2bc6uQ0qCvo"
      },
      "execution_count": null,
      "outputs": []
    },
    {
      "cell_type": "code",
      "source": [
        "data_pos = data_pos.iloc[:int(20000)]\n",
        "data_neg = data_neg.iloc[:int(20000)]"
      ],
      "metadata": {
        "id": "6l3iDQGzqCzi"
      },
      "execution_count": null,
      "outputs": []
    },
    {
      "cell_type": "code",
      "source": [
        "dataset = pd.concat([data_pos, data_neg])"
      ],
      "metadata": {
        "id": "8aiskTNAqj8Z"
      },
      "execution_count": null,
      "outputs": []
    },
    {
      "cell_type": "code",
      "source": [
        "dataset['text']=dataset['text'].str.lower()\n",
        "dataset['text'].tail()"
      ],
      "metadata": {
        "id": "RFDvBpK9qj5U"
      },
      "execution_count": null,
      "outputs": []
    },
    {
      "cell_type": "code",
      "source": [
        "stopwordlist = ['a', 'about', 'above', 'after', 'again', 'ain', 'all', 'am', 'an',\n",
        "             'and','any','are', 'as', 'at', 'be', 'because', 'been', 'before',\n",
        "             'being', 'below', 'between','both', 'by', 'can', 'd', 'did', 'do',\n",
        "             'does', 'doing', 'down', 'during', 'each','few', 'for', 'from',\n",
        "             'further', 'had', 'has', 'have', 'having', 'he', 'her', 'here',\n",
        "             'hers', 'herself', 'him', 'himself', 'his', 'how', 'i', 'if', 'in',\n",
        "             'into','is', 'it', 'its', 'itself', 'just', 'll', 'm', 'ma',\n",
        "             'me', 'more', 'most','my', 'myself', 'now', 'o', 'of', 'on', 'once',\n",
        "             'only', 'or', 'other', 'our', 'ours','ourselves', 'out', 'own', 're','s', 'same', 'she', \"shes\", 'should', \"shouldve\",'so', 'some', 'such',\n",
        "             't', 'than', 'that', \"thatll\", 'the', 'their', 'theirs', 'them',\n",
        "             'themselves', 'then', 'there', 'these', 'they', 'this', 'those',\n",
        "             'through', 'to', 'too','under', 'until', 'up', 've', 'very', 'was',\n",
        "             'we', 'were', 'what', 'when', 'where','which','while', 'who', 'whom',\n",
        "             'why', 'will', 'with', 'won', 'y', 'you', \"youd\",\"youll\", \"youre\",\"youve\", 'your', 'yours', 'yourself', 'yourselves']"
      ],
      "metadata": {
        "id": "Gfz--Sweqj0p"
      },
      "execution_count": null,
      "outputs": []
    },
    {
      "cell_type": "code",
      "source": [
        "STOPWORDS = set(stopwordlist)\n",
        "def cleaning_stopwords(text):\n",
        "    return \" \".join([word for word in str(text).split() if word not in STOPWORDS])\n",
        "dataset['text'] = dataset['text'].apply(lambda text: cleaning_stopwords(text))\n",
        "dataset['text'].head()"
      ],
      "metadata": {
        "id": "HkXjF3fJqjxd"
      },
      "execution_count": null,
      "outputs": []
    },
    {
      "cell_type": "code",
      "source": [
        "import string\n",
        "english_punctuations = string.punctuation\n",
        "punctuations_list = english_punctuations\n",
        "def cleaning_punctuations(text):\n",
        "    translator = str.maketrans('', '', punctuations_list)\n",
        "    return text.translate(translator)\n",
        "dataset['text']= dataset['text'].apply(lambda x: cleaning_punctuations(x))\n",
        "dataset['text'].tail()"
      ],
      "metadata": {
        "id": "KEYy8ipDqjuP"
      },
      "execution_count": null,
      "outputs": []
    },
    {
      "cell_type": "code",
      "source": [
        "def cleaning_repeating_char(text):\n",
        "    return re.sub(r'(.)1+', r'1', text)\n",
        "dataset['text'] = dataset['text'].apply(lambda x: cleaning_repeating_char(x))\n",
        "dataset['text'].tail()"
      ],
      "metadata": {
        "id": "Qn4A89Ltqjqo"
      },
      "execution_count": null,
      "outputs": []
    },
    {
      "cell_type": "code",
      "source": [
        "def cleaning_URLs(data):\n",
        "    return re.sub('((www.[^s]+)|(https?://[^s]+))',' ',data)\n",
        "dataset['text'] = dataset['text'].apply(lambda x: cleaning_URLs(x))\n",
        "dataset['text'].tail()"
      ],
      "metadata": {
        "id": "rqJEvx7HqjiZ"
      },
      "execution_count": null,
      "outputs": []
    },
    {
      "cell_type": "code",
      "source": [
        "def cleaning_numbers(data):\n",
        "    return re.sub('[0-9]+', '', data)\n",
        "dataset['text'] = dataset['text'].apply(lambda x: cleaning_numbers(x))\n",
        "dataset['text'].tail()"
      ],
      "metadata": {
        "id": "Jpp1rkn_qjV8"
      },
      "execution_count": null,
      "outputs": []
    },
    {
      "cell_type": "code",
      "source": [
        "from nltk.tokenize import RegexpTokenizer\n",
        "tokenizer = RegexpTokenizer(r'w+')\n",
        "dataset['text'] = dataset['text'].apply(tokenizer.tokenize)\n",
        "dataset['text'].head()"
      ],
      "metadata": {
        "id": "dHGdSfnuq16Y"
      },
      "execution_count": null,
      "outputs": []
    },
    {
      "cell_type": "code",
      "source": [
        "import nltk\n",
        "\n",
        "nltk.download('wordnet')\n",
        "st = nltk.PorterStemmer()\n",
        "def stemming_on_text(data):\n",
        "    text = [st.stem(word) for word in data]\n",
        "    return data\n",
        "dataset['text']= dataset['text'].apply(lambda x: stemming_on_text(x))\n",
        "dataset['text'].head()"
      ],
      "metadata": {
        "id": "Yql_E0W3q12x"
      },
      "execution_count": null,
      "outputs": []
    },
    {
      "cell_type": "code",
      "source": [
        "lm = nltk.WordNetLemmatizer()\n",
        "def lemmatizer_on_text(data):\n",
        "    text = [lm.lemmatize(word) for word in data]\n",
        "    return data\n",
        "dataset['text'] = dataset['text'].apply(lambda x: lemmatizer_on_text(x))\n",
        "dataset['text'].head()"
      ],
      "metadata": {
        "id": "RwiCYemGq1sU"
      },
      "execution_count": null,
      "outputs": []
    },
    {
      "cell_type": "code",
      "source": [
        "X=data.text\n",
        "y=data.target"
      ],
      "metadata": {
        "id": "b5ZMCA9zq1pX"
      },
      "execution_count": null,
      "outputs": []
    },
    {
      "cell_type": "code",
      "source": [
        "data_neg = data['text'][:800000]\n",
        "plt.figure(figsize = (20,20))\n",
        "wc = WordCloud(max_words = 1000 , width = 1600 , height = 800,\n",
        "               collocations=False).generate(\" \".join(data_neg))\n",
        "plt.imshow(wc)"
      ],
      "metadata": {
        "id": "lbrhbZjkq1mm"
      },
      "execution_count": null,
      "outputs": []
    },
    {
      "cell_type": "code",
      "source": [
        "data_pos = data['text'][800000:]\n",
        "wc = WordCloud(max_words = 1000 , width = 1600 , height = 800,\n",
        "              collocations=False).generate(\" \".join(data_pos))\n",
        "plt.figure(figsize = (20,20))\n",
        "plt.imshow(wc)"
      ],
      "metadata": {
        "id": "VJrHkygqq1jq"
      },
      "execution_count": null,
      "outputs": []
    },
    {
      "cell_type": "markdown",
      "source": [
        "Splitting Our Data set into training and test."
      ],
      "metadata": {
        "id": "cPueXJfKrEGO"
      }
    },
    {
      "cell_type": "code",
      "source": [
        "# Separating the 95% data for training data and 5% for testing data\n",
        "X_train, X_test, y_train, y_test = train_test_split(X,y,test_size = 0.05, random_state =26105111)"
      ],
      "metadata": {
        "id": "A7WJ97Btq1gy"
      },
      "execution_count": null,
      "outputs": []
    },
    {
      "cell_type": "markdown",
      "source": [
        "Transforming the Dataset Using TF-IDF Vectorizer"
      ],
      "metadata": {
        "id": "9KzYAsv-rJL5"
      }
    },
    {
      "cell_type": "code",
      "source": [
        "vectoriser = TfidfVectorizer(ngram_range=(1,2), max_features=500000)\n",
        "vectoriser.fit(X_train)\n",
        "print('No. of feature_words: ', len(vectoriser.get_feature_names()))"
      ],
      "metadata": {
        "id": "pc-seN2Dq1ee"
      },
      "execution_count": null,
      "outputs": []
    },
    {
      "cell_type": "code",
      "source": [
        "X_train = vectoriser.transform(X_train)\n",
        "X_test  = vectoriser.transform(X_test)"
      ],
      "metadata": {
        "id": "a5gMozK1q1a7"
      },
      "execution_count": null,
      "outputs": []
    },
    {
      "cell_type": "markdown",
      "source": [
        "Function for Model Evaluation"
      ],
      "metadata": {
        "id": "M-aTQYb_rP8E"
      }
    },
    {
      "cell_type": "code",
      "source": [
        "def model_Evaluate(model):\n",
        "# Predict values for Test dataset\n",
        "y_pred = model.predict(X_test)\n",
        "# Print the evaluation metrics for the dataset.\n",
        "print(classification_report(y_test, y_pred))\n",
        "# Compute and plot the Confusion matrix\n",
        "cf_matrix = confusion_matrix(y_test, y_pred)\n",
        "categories = ['Negative','Positive']\n",
        "group_names = ['True Neg','False Pos', 'False Neg','True Pos']\n",
        "group_percentages = ['{0:.2%}'.format(value) for value in cf_matrix.flatten() / np.sum(cf_matrix)]\n",
        "labels = [f'{v1}n{v2}' for v1, v2 in zip(group_names,group_percentages)]\n",
        "labels = np.asarray(labels).reshape(2,2)\n",
        "sns.heatmap(cf_matrix, annot = labels, cmap = 'Blues',fmt = '',\n",
        "xticklabels = categories, yticklabels = categories)\n",
        "plt.xlabel(\"Predicted values\", fontdict = {'size':14}, labelpad = 10)\n",
        "plt.ylabel(\"Actual values\" , fontdict = {'size':14}, labelpad = 10)\n",
        "plt.title (\"Confusion Matrix\", fontdict = {'size':18}, pad = 20)"
      ],
      "metadata": {
        "id": "Oq9yx1yXq1ST"
      },
      "execution_count": null,
      "outputs": []
    },
    {
      "cell_type": "markdown",
      "source": [
        "Model Building"
      ],
      "metadata": {
        "id": "s8ZD36lWrYau"
      }
    },
    {
      "cell_type": "code",
      "source": [
        "BNBmodel = BernoulliNB()\n",
        "BNBmodel.fit(X_train, y_train)\n",
        "model_Evaluate(BNBmodel)\n",
        "y_pred1 = BNBmodel.predict(X_test)"
      ],
      "metadata": {
        "id": "gIg5xyVgrVqo"
      },
      "execution_count": null,
      "outputs": []
    },
    {
      "cell_type": "code",
      "source": [
        "from sklearn.metrics import roc_curve, auc\n",
        "fpr, tpr, thresholds = roc_curve(y_test, y_pred1)\n",
        "roc_auc = auc(fpr, tpr)\n",
        "plt.figure()\n",
        "plt.plot(fpr, tpr, color='darkorange', lw=1, label='ROC curve (area = %0.2f)' % roc_auc)\n",
        "plt.xlim([0.0, 1.0])\n",
        "plt.ylim([0.0, 1.05])\n",
        "plt.xlabel('False Positive Rate')\n",
        "plt.ylabel('True Positive Rate')\n",
        "plt.title('ROC CURVE')\n",
        "plt.legend(loc=\"lower right\")\n",
        "plt.show()"
      ],
      "metadata": {
        "id": "B60ZEurKrVnd"
      },
      "execution_count": null,
      "outputs": []
    },
    {
      "cell_type": "code",
      "source": [
        "SVCmodel = LinearSVC()\n",
        "SVCmodel.fit(X_train, y_train)\n",
        "model_Evaluate(SVCmodel)\n",
        "y_pred2 = SVCmodel.predict(X_test)"
      ],
      "metadata": {
        "id": "PNgcyTeMrVkY"
      },
      "execution_count": null,
      "outputs": []
    },
    {
      "cell_type": "code",
      "source": [
        "from sklearn.metrics import roc_curve, auc\n",
        "fpr, tpr, thresholds = roc_curve(y_test, y_pred2)\n",
        "roc_auc = auc(fpr, tpr)\n",
        "plt.figure()\n",
        "plt.plot(fpr, tpr, color='darkorange', lw=1, label='ROC curve (area = %0.2f)' % roc_auc)\n",
        "plt.xlim([0.0, 1.0])\n",
        "plt.ylim([0.0, 1.05])\n",
        "plt.xlabel('False Positive Rate')\n",
        "plt.ylabel('True Positive Rate')\n",
        "plt.title('ROC CURVE')\n",
        "plt.legend(loc=\"lower right\")\n",
        "plt.show()"
      ],
      "metadata": {
        "id": "rw8nUWxurVhC"
      },
      "execution_count": null,
      "outputs": []
    },
    {
      "cell_type": "code",
      "source": [
        "LRmodel = LogisticRegression(C = 2, max_iter = 1000, n_jobs=-1)\n",
        "LRmodel.fit(X_train, y_train)\n",
        "model_Evaluate(LRmodel)\n",
        "y_pred3 = LRmodel.predict(X_test)"
      ],
      "metadata": {
        "id": "FMihDywErVdy"
      },
      "execution_count": null,
      "outputs": []
    },
    {
      "cell_type": "code",
      "source": [
        "from sklearn.metrics import roc_curve, auc\n",
        "fpr, tpr, thresholds = roc_curve(y_test, y_pred3)\n",
        "roc_auc = auc(fpr, tpr)\n",
        "plt.figure()\n",
        "plt.plot(fpr, tpr, color='darkorange', lw=1, label='ROC curve (area = %0.2f)' % roc_auc)\n",
        "plt.xlim([0.0, 1.0])\n",
        "plt.ylim([0.0, 1.05])\n",
        "plt.xlabel('False Positive Rate')\n",
        "plt.ylabel('True Positive Rate')\n",
        "plt.title('ROC CURVE')\n",
        "plt.legend(loc=\"lower right\")\n",
        "plt.show()"
      ],
      "metadata": {
        "id": "dmu0S7ehrVat"
      },
      "execution_count": null,
      "outputs": []
    }
  ]
}